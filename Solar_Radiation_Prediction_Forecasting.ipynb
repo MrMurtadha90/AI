{
  "nbformat": 4,
  "nbformat_minor": 0,
  "metadata": {
    "colab": {
      "provenance": []
    },
    "kernelspec": {
      "name": "python3",
      "display_name": "Python 3"
    },
    "language_info": {
      "name": "python"
    },
    "gpuClass": "standard"
  },
  "cells": [
    {
      "cell_type": "markdown",
      "source": [
        "# **# Solar Radiation Prediction**\n",
        "\n",
        "About Dataset\n",
        "\n",
        "Context\n",
        "\n",
        "Space Apps Moscow was held on April 29th & 30th. Thank you to the 175 people who joined the International Space Apps Challenge at this location!\n",
        "\n",
        "\n",
        "Content\n",
        "\n",
        "The dataset contains such columns as: \"wind direction\", \"wind speed\", \"humidity\" and temperature. The response parameter that is to be predicted is: \"Solar_radiation\". It contains measurements for the past 4 months and you have to predict the level of solar radiation.\n",
        "Just imagine that you've got solar energy batteries and you want to know will it be reasonable to use them in future?\n"
      ],
      "metadata": {
        "id": "eV6E1q-H-NxQ"
      }
    },
    {
      "cell_type": "markdown",
      "source": [
        "https://www.kaggle.com/datasets/dronio/SolarEnergy"
      ],
      "metadata": {
        "id": "oSPQN4YK-lS2"
      }
    },
    {
      "cell_type": "markdown",
      "source": [
        "# Import the Necessary Libraries"
      ],
      "metadata": {
        "id": "Ld2ZooQo5WAa"
      }
    },
    {
      "cell_type": "code",
      "source": [
        "import numpy as np\n",
        "import pandas as pd\n",
        "import matplotlib.pyplot as plt\n",
        "from sklearn import datasets, model_selection, feature_selection, svm, metrics,preprocessing\n",
        "from tqdm import tqdm\n",
        "import tensorflow as tf\n",
        "import re"
      ],
      "metadata": {
        "id": "fNLZdxEQ0ObZ"
      },
      "execution_count": null,
      "outputs": []
    },
    {
      "cell_type": "code",
      "execution_count": null,
      "metadata": {
        "id": "gSku5RXayEh0"
      },
      "outputs": [],
      "source": [
        "! mkdir ~/.kaggle\n",
        "! cp kaggle.json ~/.kaggle/\n",
        "! chmod 600 ~/.kaggle/kaggle.json"
      ]
    },
    {
      "cell_type": "code",
      "source": [
        "!kaggle datasets download -d dronio/SolarEnergy"
      ],
      "metadata": {
        "colab": {
          "base_uri": "https://localhost:8080/"
        },
        "id": "3tfuNUuvyjoR",
        "outputId": "511a99cb-e5a7-4dea-967f-74fa7d9f022a"
      },
      "execution_count": null,
      "outputs": [
        {
          "output_type": "stream",
          "name": "stdout",
          "text": [
            "Downloading SolarEnergy.zip to /content\n",
            "100% 511k/511k [00:00<00:00, 941kB/s]\n",
            "100% 511k/511k [00:00<00:00, 940kB/s]\n"
          ]
        }
      ]
    },
    {
      "cell_type": "code",
      "source": [
        "!unzip /content/SolarEnergy.zip"
      ],
      "metadata": {
        "colab": {
          "base_uri": "https://localhost:8080/"
        },
        "id": "QXFgjCBK1uBN",
        "outputId": "633ec2e9-5913-4e20-a673-3b0d7d2ffbc5"
      },
      "execution_count": null,
      "outputs": [
        {
          "output_type": "stream",
          "name": "stdout",
          "text": [
            "Archive:  /content/SolarEnergy.zip\n",
            "  inflating: SolarPrediction.csv     \n"
          ]
        }
      ]
    },
    {
      "cell_type": "markdown",
      "source": [
        "# **read dataset from CSV using Pandas**"
      ],
      "metadata": {
        "id": "QjLTR6CN1TSV"
      }
    },
    {
      "cell_type": "code",
      "source": [
        "dataset=pd.read_csv(\"SolarPrediction.csv\")\n",
        "dataset.head()"
      ],
      "metadata": {
        "colab": {
          "base_uri": "https://localhost:8080/",
          "height": 206
        },
        "id": "wUcDcUoD2B1U",
        "outputId": "3309765f-6978-4b2b-aa9d-6deb45599810"
      },
      "execution_count": null,
      "outputs": [
        {
          "output_type": "execute_result",
          "data": {
            "text/plain": [
              "     UNIXTime                   Data      Time  Radiation  Temperature  \\\n",
              "0  1475229326  9/29/2016 12:00:00 AM  23:55:26       1.21           48   \n",
              "1  1475229023  9/29/2016 12:00:00 AM  23:50:23       1.21           48   \n",
              "2  1475228726  9/29/2016 12:00:00 AM  23:45:26       1.23           48   \n",
              "3  1475228421  9/29/2016 12:00:00 AM  23:40:21       1.21           48   \n",
              "4  1475228124  9/29/2016 12:00:00 AM  23:35:24       1.17           48   \n",
              "\n",
              "   Pressure  Humidity  WindDirection(Degrees)  Speed TimeSunRise TimeSunSet  \n",
              "0     30.46        59                  177.39   5.62    06:13:00   18:13:00  \n",
              "1     30.46        58                  176.78   3.37    06:13:00   18:13:00  \n",
              "2     30.46        57                  158.75   3.37    06:13:00   18:13:00  \n",
              "3     30.46        60                  137.71   3.37    06:13:00   18:13:00  \n",
              "4     30.46        62                  104.95   5.62    06:13:00   18:13:00  "
            ],
            "text/html": [
              "\n",
              "  <div id=\"df-5d554278-5b6e-403d-9ba3-d5e3624be89a\">\n",
              "    <div class=\"colab-df-container\">\n",
              "      <div>\n",
              "<style scoped>\n",
              "    .dataframe tbody tr th:only-of-type {\n",
              "        vertical-align: middle;\n",
              "    }\n",
              "\n",
              "    .dataframe tbody tr th {\n",
              "        vertical-align: top;\n",
              "    }\n",
              "\n",
              "    .dataframe thead th {\n",
              "        text-align: right;\n",
              "    }\n",
              "</style>\n",
              "<table border=\"1\" class=\"dataframe\">\n",
              "  <thead>\n",
              "    <tr style=\"text-align: right;\">\n",
              "      <th></th>\n",
              "      <th>UNIXTime</th>\n",
              "      <th>Data</th>\n",
              "      <th>Time</th>\n",
              "      <th>Radiation</th>\n",
              "      <th>Temperature</th>\n",
              "      <th>Pressure</th>\n",
              "      <th>Humidity</th>\n",
              "      <th>WindDirection(Degrees)</th>\n",
              "      <th>Speed</th>\n",
              "      <th>TimeSunRise</th>\n",
              "      <th>TimeSunSet</th>\n",
              "    </tr>\n",
              "  </thead>\n",
              "  <tbody>\n",
              "    <tr>\n",
              "      <th>0</th>\n",
              "      <td>1475229326</td>\n",
              "      <td>9/29/2016 12:00:00 AM</td>\n",
              "      <td>23:55:26</td>\n",
              "      <td>1.21</td>\n",
              "      <td>48</td>\n",
              "      <td>30.46</td>\n",
              "      <td>59</td>\n",
              "      <td>177.39</td>\n",
              "      <td>5.62</td>\n",
              "      <td>06:13:00</td>\n",
              "      <td>18:13:00</td>\n",
              "    </tr>\n",
              "    <tr>\n",
              "      <th>1</th>\n",
              "      <td>1475229023</td>\n",
              "      <td>9/29/2016 12:00:00 AM</td>\n",
              "      <td>23:50:23</td>\n",
              "      <td>1.21</td>\n",
              "      <td>48</td>\n",
              "      <td>30.46</td>\n",
              "      <td>58</td>\n",
              "      <td>176.78</td>\n",
              "      <td>3.37</td>\n",
              "      <td>06:13:00</td>\n",
              "      <td>18:13:00</td>\n",
              "    </tr>\n",
              "    <tr>\n",
              "      <th>2</th>\n",
              "      <td>1475228726</td>\n",
              "      <td>9/29/2016 12:00:00 AM</td>\n",
              "      <td>23:45:26</td>\n",
              "      <td>1.23</td>\n",
              "      <td>48</td>\n",
              "      <td>30.46</td>\n",
              "      <td>57</td>\n",
              "      <td>158.75</td>\n",
              "      <td>3.37</td>\n",
              "      <td>06:13:00</td>\n",
              "      <td>18:13:00</td>\n",
              "    </tr>\n",
              "    <tr>\n",
              "      <th>3</th>\n",
              "      <td>1475228421</td>\n",
              "      <td>9/29/2016 12:00:00 AM</td>\n",
              "      <td>23:40:21</td>\n",
              "      <td>1.21</td>\n",
              "      <td>48</td>\n",
              "      <td>30.46</td>\n",
              "      <td>60</td>\n",
              "      <td>137.71</td>\n",
              "      <td>3.37</td>\n",
              "      <td>06:13:00</td>\n",
              "      <td>18:13:00</td>\n",
              "    </tr>\n",
              "    <tr>\n",
              "      <th>4</th>\n",
              "      <td>1475228124</td>\n",
              "      <td>9/29/2016 12:00:00 AM</td>\n",
              "      <td>23:35:24</td>\n",
              "      <td>1.17</td>\n",
              "      <td>48</td>\n",
              "      <td>30.46</td>\n",
              "      <td>62</td>\n",
              "      <td>104.95</td>\n",
              "      <td>5.62</td>\n",
              "      <td>06:13:00</td>\n",
              "      <td>18:13:00</td>\n",
              "    </tr>\n",
              "  </tbody>\n",
              "</table>\n",
              "</div>\n",
              "      <button class=\"colab-df-convert\" onclick=\"convertToInteractive('df-5d554278-5b6e-403d-9ba3-d5e3624be89a')\"\n",
              "              title=\"Convert this dataframe to an interactive table.\"\n",
              "              style=\"display:none;\">\n",
              "        \n",
              "  <svg xmlns=\"http://www.w3.org/2000/svg\" height=\"24px\"viewBox=\"0 0 24 24\"\n",
              "       width=\"24px\">\n",
              "    <path d=\"M0 0h24v24H0V0z\" fill=\"none\"/>\n",
              "    <path d=\"M18.56 5.44l.94 2.06.94-2.06 2.06-.94-2.06-.94-.94-2.06-.94 2.06-2.06.94zm-11 1L8.5 8.5l.94-2.06 2.06-.94-2.06-.94L8.5 2.5l-.94 2.06-2.06.94zm10 10l.94 2.06.94-2.06 2.06-.94-2.06-.94-.94-2.06-.94 2.06-2.06.94z\"/><path d=\"M17.41 7.96l-1.37-1.37c-.4-.4-.92-.59-1.43-.59-.52 0-1.04.2-1.43.59L10.3 9.45l-7.72 7.72c-.78.78-.78 2.05 0 2.83L4 21.41c.39.39.9.59 1.41.59.51 0 1.02-.2 1.41-.59l7.78-7.78 2.81-2.81c.8-.78.8-2.07 0-2.86zM5.41 20L4 18.59l7.72-7.72 1.47 1.35L5.41 20z\"/>\n",
              "  </svg>\n",
              "      </button>\n",
              "      \n",
              "  <style>\n",
              "    .colab-df-container {\n",
              "      display:flex;\n",
              "      flex-wrap:wrap;\n",
              "      gap: 12px;\n",
              "    }\n",
              "\n",
              "    .colab-df-convert {\n",
              "      background-color: #E8F0FE;\n",
              "      border: none;\n",
              "      border-radius: 50%;\n",
              "      cursor: pointer;\n",
              "      display: none;\n",
              "      fill: #1967D2;\n",
              "      height: 32px;\n",
              "      padding: 0 0 0 0;\n",
              "      width: 32px;\n",
              "    }\n",
              "\n",
              "    .colab-df-convert:hover {\n",
              "      background-color: #E2EBFA;\n",
              "      box-shadow: 0px 1px 2px rgba(60, 64, 67, 0.3), 0px 1px 3px 1px rgba(60, 64, 67, 0.15);\n",
              "      fill: #174EA6;\n",
              "    }\n",
              "\n",
              "    [theme=dark] .colab-df-convert {\n",
              "      background-color: #3B4455;\n",
              "      fill: #D2E3FC;\n",
              "    }\n",
              "\n",
              "    [theme=dark] .colab-df-convert:hover {\n",
              "      background-color: #434B5C;\n",
              "      box-shadow: 0px 1px 3px 1px rgba(0, 0, 0, 0.15);\n",
              "      filter: drop-shadow(0px 1px 2px rgba(0, 0, 0, 0.3));\n",
              "      fill: #FFFFFF;\n",
              "    }\n",
              "  </style>\n",
              "\n",
              "      <script>\n",
              "        const buttonEl =\n",
              "          document.querySelector('#df-5d554278-5b6e-403d-9ba3-d5e3624be89a button.colab-df-convert');\n",
              "        buttonEl.style.display =\n",
              "          google.colab.kernel.accessAllowed ? 'block' : 'none';\n",
              "\n",
              "        async function convertToInteractive(key) {\n",
              "          const element = document.querySelector('#df-5d554278-5b6e-403d-9ba3-d5e3624be89a');\n",
              "          const dataTable =\n",
              "            await google.colab.kernel.invokeFunction('convertToInteractive',\n",
              "                                                     [key], {});\n",
              "          if (!dataTable) return;\n",
              "\n",
              "          const docLinkHtml = 'Like what you see? Visit the ' +\n",
              "            '<a target=\"_blank\" href=https://colab.research.google.com/notebooks/data_table.ipynb>data table notebook</a>'\n",
              "            + ' to learn more about interactive tables.';\n",
              "          element.innerHTML = '';\n",
              "          dataTable['output_type'] = 'display_data';\n",
              "          await google.colab.output.renderOutput(dataTable, element);\n",
              "          const docLink = document.createElement('div');\n",
              "          docLink.innerHTML = docLinkHtml;\n",
              "          element.appendChild(docLink);\n",
              "        }\n",
              "      </script>\n",
              "    </div>\n",
              "  </div>\n",
              "  "
            ]
          },
          "metadata": {},
          "execution_count": 5
        }
      ]
    },
    {
      "cell_type": "markdown",
      "source": [
        "# **desribe the dataset using Pandas**"
      ],
      "metadata": {
        "id": "i_LQKJoC5nBC"
      }
    },
    {
      "cell_type": "code",
      "source": [
        "dataset.describe()"
      ],
      "metadata": {
        "id": "Xfl6imOgEFj1",
        "outputId": "6c243fe1-2a4a-4886-bb17-b1997b98b663",
        "colab": {
          "base_uri": "https://localhost:8080/",
          "height": 300
        }
      },
      "execution_count": null,
      "outputs": [
        {
          "output_type": "execute_result",
          "data": {
            "text/plain": [
              "           UNIXTime     Radiation   Temperature      Pressure      Humidity  \\\n",
              "count  3.268600e+04  32686.000000  32686.000000  32686.000000  32686.000000   \n",
              "mean   1.478047e+09    207.124697     51.103255     30.422879     75.016307   \n",
              "std    3.005037e+06    315.916387      6.201157      0.054673     25.990219   \n",
              "min    1.472724e+09      1.110000     34.000000     30.190000      8.000000   \n",
              "25%    1.475546e+09      1.230000     46.000000     30.400000     56.000000   \n",
              "50%    1.478026e+09      2.660000     50.000000     30.430000     85.000000   \n",
              "75%    1.480480e+09    354.235000     55.000000     30.460000     97.000000   \n",
              "max    1.483265e+09   1601.260000     71.000000     30.560000    103.000000   \n",
              "\n",
              "       WindDirection(Degrees)         Speed  \n",
              "count            32686.000000  32686.000000  \n",
              "mean               143.489821      6.243869  \n",
              "std                 83.167500      3.490474  \n",
              "min                  0.090000      0.000000  \n",
              "25%                 82.227500      3.370000  \n",
              "50%                147.700000      5.620000  \n",
              "75%                179.310000      7.870000  \n",
              "max                359.950000     40.500000  "
            ],
            "text/html": [
              "\n",
              "  <div id=\"df-d5f13e7e-1371-4abf-956b-ff1ac596f85b\">\n",
              "    <div class=\"colab-df-container\">\n",
              "      <div>\n",
              "<style scoped>\n",
              "    .dataframe tbody tr th:only-of-type {\n",
              "        vertical-align: middle;\n",
              "    }\n",
              "\n",
              "    .dataframe tbody tr th {\n",
              "        vertical-align: top;\n",
              "    }\n",
              "\n",
              "    .dataframe thead th {\n",
              "        text-align: right;\n",
              "    }\n",
              "</style>\n",
              "<table border=\"1\" class=\"dataframe\">\n",
              "  <thead>\n",
              "    <tr style=\"text-align: right;\">\n",
              "      <th></th>\n",
              "      <th>UNIXTime</th>\n",
              "      <th>Radiation</th>\n",
              "      <th>Temperature</th>\n",
              "      <th>Pressure</th>\n",
              "      <th>Humidity</th>\n",
              "      <th>WindDirection(Degrees)</th>\n",
              "      <th>Speed</th>\n",
              "    </tr>\n",
              "  </thead>\n",
              "  <tbody>\n",
              "    <tr>\n",
              "      <th>count</th>\n",
              "      <td>3.268600e+04</td>\n",
              "      <td>32686.000000</td>\n",
              "      <td>32686.000000</td>\n",
              "      <td>32686.000000</td>\n",
              "      <td>32686.000000</td>\n",
              "      <td>32686.000000</td>\n",
              "      <td>32686.000000</td>\n",
              "    </tr>\n",
              "    <tr>\n",
              "      <th>mean</th>\n",
              "      <td>1.478047e+09</td>\n",
              "      <td>207.124697</td>\n",
              "      <td>51.103255</td>\n",
              "      <td>30.422879</td>\n",
              "      <td>75.016307</td>\n",
              "      <td>143.489821</td>\n",
              "      <td>6.243869</td>\n",
              "    </tr>\n",
              "    <tr>\n",
              "      <th>std</th>\n",
              "      <td>3.005037e+06</td>\n",
              "      <td>315.916387</td>\n",
              "      <td>6.201157</td>\n",
              "      <td>0.054673</td>\n",
              "      <td>25.990219</td>\n",
              "      <td>83.167500</td>\n",
              "      <td>3.490474</td>\n",
              "    </tr>\n",
              "    <tr>\n",
              "      <th>min</th>\n",
              "      <td>1.472724e+09</td>\n",
              "      <td>1.110000</td>\n",
              "      <td>34.000000</td>\n",
              "      <td>30.190000</td>\n",
              "      <td>8.000000</td>\n",
              "      <td>0.090000</td>\n",
              "      <td>0.000000</td>\n",
              "    </tr>\n",
              "    <tr>\n",
              "      <th>25%</th>\n",
              "      <td>1.475546e+09</td>\n",
              "      <td>1.230000</td>\n",
              "      <td>46.000000</td>\n",
              "      <td>30.400000</td>\n",
              "      <td>56.000000</td>\n",
              "      <td>82.227500</td>\n",
              "      <td>3.370000</td>\n",
              "    </tr>\n",
              "    <tr>\n",
              "      <th>50%</th>\n",
              "      <td>1.478026e+09</td>\n",
              "      <td>2.660000</td>\n",
              "      <td>50.000000</td>\n",
              "      <td>30.430000</td>\n",
              "      <td>85.000000</td>\n",
              "      <td>147.700000</td>\n",
              "      <td>5.620000</td>\n",
              "    </tr>\n",
              "    <tr>\n",
              "      <th>75%</th>\n",
              "      <td>1.480480e+09</td>\n",
              "      <td>354.235000</td>\n",
              "      <td>55.000000</td>\n",
              "      <td>30.460000</td>\n",
              "      <td>97.000000</td>\n",
              "      <td>179.310000</td>\n",
              "      <td>7.870000</td>\n",
              "    </tr>\n",
              "    <tr>\n",
              "      <th>max</th>\n",
              "      <td>1.483265e+09</td>\n",
              "      <td>1601.260000</td>\n",
              "      <td>71.000000</td>\n",
              "      <td>30.560000</td>\n",
              "      <td>103.000000</td>\n",
              "      <td>359.950000</td>\n",
              "      <td>40.500000</td>\n",
              "    </tr>\n",
              "  </tbody>\n",
              "</table>\n",
              "</div>\n",
              "      <button class=\"colab-df-convert\" onclick=\"convertToInteractive('df-d5f13e7e-1371-4abf-956b-ff1ac596f85b')\"\n",
              "              title=\"Convert this dataframe to an interactive table.\"\n",
              "              style=\"display:none;\">\n",
              "        \n",
              "  <svg xmlns=\"http://www.w3.org/2000/svg\" height=\"24px\"viewBox=\"0 0 24 24\"\n",
              "       width=\"24px\">\n",
              "    <path d=\"M0 0h24v24H0V0z\" fill=\"none\"/>\n",
              "    <path d=\"M18.56 5.44l.94 2.06.94-2.06 2.06-.94-2.06-.94-.94-2.06-.94 2.06-2.06.94zm-11 1L8.5 8.5l.94-2.06 2.06-.94-2.06-.94L8.5 2.5l-.94 2.06-2.06.94zm10 10l.94 2.06.94-2.06 2.06-.94-2.06-.94-.94-2.06-.94 2.06-2.06.94z\"/><path d=\"M17.41 7.96l-1.37-1.37c-.4-.4-.92-.59-1.43-.59-.52 0-1.04.2-1.43.59L10.3 9.45l-7.72 7.72c-.78.78-.78 2.05 0 2.83L4 21.41c.39.39.9.59 1.41.59.51 0 1.02-.2 1.41-.59l7.78-7.78 2.81-2.81c.8-.78.8-2.07 0-2.86zM5.41 20L4 18.59l7.72-7.72 1.47 1.35L5.41 20z\"/>\n",
              "  </svg>\n",
              "      </button>\n",
              "      \n",
              "  <style>\n",
              "    .colab-df-container {\n",
              "      display:flex;\n",
              "      flex-wrap:wrap;\n",
              "      gap: 12px;\n",
              "    }\n",
              "\n",
              "    .colab-df-convert {\n",
              "      background-color: #E8F0FE;\n",
              "      border: none;\n",
              "      border-radius: 50%;\n",
              "      cursor: pointer;\n",
              "      display: none;\n",
              "      fill: #1967D2;\n",
              "      height: 32px;\n",
              "      padding: 0 0 0 0;\n",
              "      width: 32px;\n",
              "    }\n",
              "\n",
              "    .colab-df-convert:hover {\n",
              "      background-color: #E2EBFA;\n",
              "      box-shadow: 0px 1px 2px rgba(60, 64, 67, 0.3), 0px 1px 3px 1px rgba(60, 64, 67, 0.15);\n",
              "      fill: #174EA6;\n",
              "    }\n",
              "\n",
              "    [theme=dark] .colab-df-convert {\n",
              "      background-color: #3B4455;\n",
              "      fill: #D2E3FC;\n",
              "    }\n",
              "\n",
              "    [theme=dark] .colab-df-convert:hover {\n",
              "      background-color: #434B5C;\n",
              "      box-shadow: 0px 1px 3px 1px rgba(0, 0, 0, 0.15);\n",
              "      filter: drop-shadow(0px 1px 2px rgba(0, 0, 0, 0.3));\n",
              "      fill: #FFFFFF;\n",
              "    }\n",
              "  </style>\n",
              "\n",
              "      <script>\n",
              "        const buttonEl =\n",
              "          document.querySelector('#df-d5f13e7e-1371-4abf-956b-ff1ac596f85b button.colab-df-convert');\n",
              "        buttonEl.style.display =\n",
              "          google.colab.kernel.accessAllowed ? 'block' : 'none';\n",
              "\n",
              "        async function convertToInteractive(key) {\n",
              "          const element = document.querySelector('#df-d5f13e7e-1371-4abf-956b-ff1ac596f85b');\n",
              "          const dataTable =\n",
              "            await google.colab.kernel.invokeFunction('convertToInteractive',\n",
              "                                                     [key], {});\n",
              "          if (!dataTable) return;\n",
              "\n",
              "          const docLinkHtml = 'Like what you see? Visit the ' +\n",
              "            '<a target=\"_blank\" href=https://colab.research.google.com/notebooks/data_table.ipynb>data table notebook</a>'\n",
              "            + ' to learn more about interactive tables.';\n",
              "          element.innerHTML = '';\n",
              "          dataTable['output_type'] = 'display_data';\n",
              "          await google.colab.output.renderOutput(dataTable, element);\n",
              "          const docLink = document.createElement('div');\n",
              "          docLink.innerHTML = docLinkHtml;\n",
              "          element.appendChild(docLink);\n",
              "        }\n",
              "      </script>\n",
              "    </div>\n",
              "  </div>\n",
              "  "
            ]
          },
          "metadata": {},
          "execution_count": 6
        }
      ]
    },
    {
      "cell_type": "code",
      "source": [
        "dataset.info()"
      ],
      "metadata": {
        "id": "vmG6RpWx2Kag",
        "colab": {
          "base_uri": "https://localhost:8080/"
        },
        "outputId": "eb631645-4e58-485e-ebcd-e48817693868"
      },
      "execution_count": null,
      "outputs": [
        {
          "output_type": "stream",
          "name": "stdout",
          "text": [
            "<class 'pandas.core.frame.DataFrame'>\n",
            "RangeIndex: 32686 entries, 0 to 32685\n",
            "Data columns (total 11 columns):\n",
            " #   Column                  Non-Null Count  Dtype  \n",
            "---  ------                  --------------  -----  \n",
            " 0   UNIXTime                32686 non-null  int64  \n",
            " 1   Data                    32686 non-null  object \n",
            " 2   Time                    32686 non-null  object \n",
            " 3   Radiation               32686 non-null  float64\n",
            " 4   Temperature             32686 non-null  int64  \n",
            " 5   Pressure                32686 non-null  float64\n",
            " 6   Humidity                32686 non-null  int64  \n",
            " 7   WindDirection(Degrees)  32686 non-null  float64\n",
            " 8   Speed                   32686 non-null  float64\n",
            " 9   TimeSunRise             32686 non-null  object \n",
            " 10  TimeSunSet              32686 non-null  object \n",
            "dtypes: float64(4), int64(3), object(4)\n",
            "memory usage: 2.7+ MB\n"
          ]
        }
      ]
    },
    {
      "cell_type": "markdown",
      "source": [
        "# **check for missing values**"
      ],
      "metadata": {
        "id": "gkcxNTkR2BF0"
      }
    },
    {
      "cell_type": "code",
      "source": [
        "dataset.isna().sum()"
      ],
      "metadata": {
        "colab": {
          "base_uri": "https://localhost:8080/"
        },
        "id": "EqtxEQ5HDNtH",
        "outputId": "244772cb-618b-4a23-a30b-97bd242b3134"
      },
      "execution_count": null,
      "outputs": [
        {
          "output_type": "execute_result",
          "data": {
            "text/plain": [
              "UNIXTime                  0\n",
              "Data                      0\n",
              "Time                      0\n",
              "Radiation                 0\n",
              "Temperature               0\n",
              "Pressure                  0\n",
              "Humidity                  0\n",
              "WindDirection(Degrees)    0\n",
              "Speed                     0\n",
              "TimeSunRise               0\n",
              "TimeSunSet                0\n",
              "dtype: int64"
            ]
          },
          "metadata": {},
          "execution_count": 8
        }
      ]
    },
    {
      "cell_type": "markdown",
      "source": [
        "# **Convert the Features to integer values**"
      ],
      "metadata": {
        "id": "Udhk6xAb3B5B"
      }
    },
    {
      "cell_type": "code",
      "source": [
        "dataset['month'] = dataset['Data'].apply(lambda x : re.search(r'^\\d+', x).group(0)).astype(int)\n",
        "dataset['date'] = dataset['Data'].apply(lambda x : re.search(r'(?<=\\/)\\d+(?=\\/)', x).group(0)).astype(int)\n",
        "dataset['year'] = dataset['Data'].apply(lambda x : re.search(r'(?<=\\/)\\d+(?=\\s)', x).group(0)).astype(int)\n",
        "\n",
        "dataset['hour'] = dataset['Time'].apply(lambda x : re.search(r'^\\d+', x).group(0)).astype(int)\n",
        "dataset['minute'] = dataset['Time'].apply(lambda x : re.search(r'(?<=\\:)\\d+(?=\\:)', x).group(0)).astype(int)\n",
        "dataset['second'] = dataset['Time'].apply(lambda x : re.search(r'\\d+$', x).group(0)).astype(int)\n",
        "\n",
        "dataset['risehour'] = dataset['TimeSunRise'].apply(lambda x : re.search(r'^\\d+', x).group(0)).astype(int)\n",
        "dataset['riseminuter'] = dataset['TimeSunRise'].apply(lambda x : re.search(r'(?<=\\:)\\d+(?=\\:)', x).group(0)).astype(int)\n",
        "dataset['sethour'] = dataset['TimeSunSet'].apply(lambda x : re.search(r'^\\d+', x).group(0)).astype(int)\n",
        "dataset['setminute'] = dataset['TimeSunSet'].apply(lambda x : re.search(r'(?<=\\:)\\d+(?=\\:)', x).group(0)).astype(int)"
      ],
      "metadata": {
        "id": "3zhxmP1DDm2q"
      },
      "execution_count": null,
      "outputs": []
    },
    {
      "cell_type": "code",
      "source": [
        "dataset.drop(['UNIXTime','Data', 'Time', 'TimeSunRise', 'TimeSunSet'], axis = 1, inplace = True)"
      ],
      "metadata": {
        "id": "C39RNxcSD_g8"
      },
      "execution_count": null,
      "outputs": []
    },
    {
      "cell_type": "code",
      "source": [
        "dataset.head()"
      ],
      "metadata": {
        "id": "yLFryfVCDqU1",
        "colab": {
          "base_uri": "https://localhost:8080/",
          "height": 250
        },
        "outputId": "9103110c-a4a0-4ac5-f59d-463bfbc198b1"
      },
      "execution_count": null,
      "outputs": [
        {
          "output_type": "execute_result",
          "data": {
            "text/plain": [
              "   Radiation  Temperature  Pressure  Humidity  WindDirection(Degrees)  Speed  \\\n",
              "0       1.21           48     30.46        59                  177.39   5.62   \n",
              "1       1.21           48     30.46        58                  176.78   3.37   \n",
              "2       1.23           48     30.46        57                  158.75   3.37   \n",
              "3       1.21           48     30.46        60                  137.71   3.37   \n",
              "4       1.17           48     30.46        62                  104.95   5.62   \n",
              "\n",
              "   month  date  year  hour  minute  second  risehour  riseminuter  sethour  \\\n",
              "0      9    29  2016    23      55      26         6           13       18   \n",
              "1      9    29  2016    23      50      23         6           13       18   \n",
              "2      9    29  2016    23      45      26         6           13       18   \n",
              "3      9    29  2016    23      40      21         6           13       18   \n",
              "4      9    29  2016    23      35      24         6           13       18   \n",
              "\n",
              "   setminute  \n",
              "0         13  \n",
              "1         13  \n",
              "2         13  \n",
              "3         13  \n",
              "4         13  "
            ],
            "text/html": [
              "\n",
              "  <div id=\"df-eafe2fab-828d-416c-b174-8dedbe2169a9\">\n",
              "    <div class=\"colab-df-container\">\n",
              "      <div>\n",
              "<style scoped>\n",
              "    .dataframe tbody tr th:only-of-type {\n",
              "        vertical-align: middle;\n",
              "    }\n",
              "\n",
              "    .dataframe tbody tr th {\n",
              "        vertical-align: top;\n",
              "    }\n",
              "\n",
              "    .dataframe thead th {\n",
              "        text-align: right;\n",
              "    }\n",
              "</style>\n",
              "<table border=\"1\" class=\"dataframe\">\n",
              "  <thead>\n",
              "    <tr style=\"text-align: right;\">\n",
              "      <th></th>\n",
              "      <th>Radiation</th>\n",
              "      <th>Temperature</th>\n",
              "      <th>Pressure</th>\n",
              "      <th>Humidity</th>\n",
              "      <th>WindDirection(Degrees)</th>\n",
              "      <th>Speed</th>\n",
              "      <th>month</th>\n",
              "      <th>date</th>\n",
              "      <th>year</th>\n",
              "      <th>hour</th>\n",
              "      <th>minute</th>\n",
              "      <th>second</th>\n",
              "      <th>risehour</th>\n",
              "      <th>riseminuter</th>\n",
              "      <th>sethour</th>\n",
              "      <th>setminute</th>\n",
              "    </tr>\n",
              "  </thead>\n",
              "  <tbody>\n",
              "    <tr>\n",
              "      <th>0</th>\n",
              "      <td>1.21</td>\n",
              "      <td>48</td>\n",
              "      <td>30.46</td>\n",
              "      <td>59</td>\n",
              "      <td>177.39</td>\n",
              "      <td>5.62</td>\n",
              "      <td>9</td>\n",
              "      <td>29</td>\n",
              "      <td>2016</td>\n",
              "      <td>23</td>\n",
              "      <td>55</td>\n",
              "      <td>26</td>\n",
              "      <td>6</td>\n",
              "      <td>13</td>\n",
              "      <td>18</td>\n",
              "      <td>13</td>\n",
              "    </tr>\n",
              "    <tr>\n",
              "      <th>1</th>\n",
              "      <td>1.21</td>\n",
              "      <td>48</td>\n",
              "      <td>30.46</td>\n",
              "      <td>58</td>\n",
              "      <td>176.78</td>\n",
              "      <td>3.37</td>\n",
              "      <td>9</td>\n",
              "      <td>29</td>\n",
              "      <td>2016</td>\n",
              "      <td>23</td>\n",
              "      <td>50</td>\n",
              "      <td>23</td>\n",
              "      <td>6</td>\n",
              "      <td>13</td>\n",
              "      <td>18</td>\n",
              "      <td>13</td>\n",
              "    </tr>\n",
              "    <tr>\n",
              "      <th>2</th>\n",
              "      <td>1.23</td>\n",
              "      <td>48</td>\n",
              "      <td>30.46</td>\n",
              "      <td>57</td>\n",
              "      <td>158.75</td>\n",
              "      <td>3.37</td>\n",
              "      <td>9</td>\n",
              "      <td>29</td>\n",
              "      <td>2016</td>\n",
              "      <td>23</td>\n",
              "      <td>45</td>\n",
              "      <td>26</td>\n",
              "      <td>6</td>\n",
              "      <td>13</td>\n",
              "      <td>18</td>\n",
              "      <td>13</td>\n",
              "    </tr>\n",
              "    <tr>\n",
              "      <th>3</th>\n",
              "      <td>1.21</td>\n",
              "      <td>48</td>\n",
              "      <td>30.46</td>\n",
              "      <td>60</td>\n",
              "      <td>137.71</td>\n",
              "      <td>3.37</td>\n",
              "      <td>9</td>\n",
              "      <td>29</td>\n",
              "      <td>2016</td>\n",
              "      <td>23</td>\n",
              "      <td>40</td>\n",
              "      <td>21</td>\n",
              "      <td>6</td>\n",
              "      <td>13</td>\n",
              "      <td>18</td>\n",
              "      <td>13</td>\n",
              "    </tr>\n",
              "    <tr>\n",
              "      <th>4</th>\n",
              "      <td>1.17</td>\n",
              "      <td>48</td>\n",
              "      <td>30.46</td>\n",
              "      <td>62</td>\n",
              "      <td>104.95</td>\n",
              "      <td>5.62</td>\n",
              "      <td>9</td>\n",
              "      <td>29</td>\n",
              "      <td>2016</td>\n",
              "      <td>23</td>\n",
              "      <td>35</td>\n",
              "      <td>24</td>\n",
              "      <td>6</td>\n",
              "      <td>13</td>\n",
              "      <td>18</td>\n",
              "      <td>13</td>\n",
              "    </tr>\n",
              "  </tbody>\n",
              "</table>\n",
              "</div>\n",
              "      <button class=\"colab-df-convert\" onclick=\"convertToInteractive('df-eafe2fab-828d-416c-b174-8dedbe2169a9')\"\n",
              "              title=\"Convert this dataframe to an interactive table.\"\n",
              "              style=\"display:none;\">\n",
              "        \n",
              "  <svg xmlns=\"http://www.w3.org/2000/svg\" height=\"24px\"viewBox=\"0 0 24 24\"\n",
              "       width=\"24px\">\n",
              "    <path d=\"M0 0h24v24H0V0z\" fill=\"none\"/>\n",
              "    <path d=\"M18.56 5.44l.94 2.06.94-2.06 2.06-.94-2.06-.94-.94-2.06-.94 2.06-2.06.94zm-11 1L8.5 8.5l.94-2.06 2.06-.94-2.06-.94L8.5 2.5l-.94 2.06-2.06.94zm10 10l.94 2.06.94-2.06 2.06-.94-2.06-.94-.94-2.06-.94 2.06-2.06.94z\"/><path d=\"M17.41 7.96l-1.37-1.37c-.4-.4-.92-.59-1.43-.59-.52 0-1.04.2-1.43.59L10.3 9.45l-7.72 7.72c-.78.78-.78 2.05 0 2.83L4 21.41c.39.39.9.59 1.41.59.51 0 1.02-.2 1.41-.59l7.78-7.78 2.81-2.81c.8-.78.8-2.07 0-2.86zM5.41 20L4 18.59l7.72-7.72 1.47 1.35L5.41 20z\"/>\n",
              "  </svg>\n",
              "      </button>\n",
              "      \n",
              "  <style>\n",
              "    .colab-df-container {\n",
              "      display:flex;\n",
              "      flex-wrap:wrap;\n",
              "      gap: 12px;\n",
              "    }\n",
              "\n",
              "    .colab-df-convert {\n",
              "      background-color: #E8F0FE;\n",
              "      border: none;\n",
              "      border-radius: 50%;\n",
              "      cursor: pointer;\n",
              "      display: none;\n",
              "      fill: #1967D2;\n",
              "      height: 32px;\n",
              "      padding: 0 0 0 0;\n",
              "      width: 32px;\n",
              "    }\n",
              "\n",
              "    .colab-df-convert:hover {\n",
              "      background-color: #E2EBFA;\n",
              "      box-shadow: 0px 1px 2px rgba(60, 64, 67, 0.3), 0px 1px 3px 1px rgba(60, 64, 67, 0.15);\n",
              "      fill: #174EA6;\n",
              "    }\n",
              "\n",
              "    [theme=dark] .colab-df-convert {\n",
              "      background-color: #3B4455;\n",
              "      fill: #D2E3FC;\n",
              "    }\n",
              "\n",
              "    [theme=dark] .colab-df-convert:hover {\n",
              "      background-color: #434B5C;\n",
              "      box-shadow: 0px 1px 3px 1px rgba(0, 0, 0, 0.15);\n",
              "      filter: drop-shadow(0px 1px 2px rgba(0, 0, 0, 0.3));\n",
              "      fill: #FFFFFF;\n",
              "    }\n",
              "  </style>\n",
              "\n",
              "      <script>\n",
              "        const buttonEl =\n",
              "          document.querySelector('#df-eafe2fab-828d-416c-b174-8dedbe2169a9 button.colab-df-convert');\n",
              "        buttonEl.style.display =\n",
              "          google.colab.kernel.accessAllowed ? 'block' : 'none';\n",
              "\n",
              "        async function convertToInteractive(key) {\n",
              "          const element = document.querySelector('#df-eafe2fab-828d-416c-b174-8dedbe2169a9');\n",
              "          const dataTable =\n",
              "            await google.colab.kernel.invokeFunction('convertToInteractive',\n",
              "                                                     [key], {});\n",
              "          if (!dataTable) return;\n",
              "\n",
              "          const docLinkHtml = 'Like what you see? Visit the ' +\n",
              "            '<a target=\"_blank\" href=https://colab.research.google.com/notebooks/data_table.ipynb>data table notebook</a>'\n",
              "            + ' to learn more about interactive tables.';\n",
              "          element.innerHTML = '';\n",
              "          dataTable['output_type'] = 'display_data';\n",
              "          await google.colab.output.renderOutput(dataTable, element);\n",
              "          const docLink = document.createElement('div');\n",
              "          docLink.innerHTML = docLinkHtml;\n",
              "          element.appendChild(docLink);\n",
              "        }\n",
              "      </script>\n",
              "    </div>\n",
              "  </div>\n",
              "  "
            ]
          },
          "metadata": {},
          "execution_count": 13
        }
      ]
    },
    {
      "cell_type": "code",
      "source": [
        "dataset['year'].unique(), dataset['risehour'].unique()\n"
      ],
      "metadata": {
        "id": "IfzgrgU0DqQE",
        "colab": {
          "base_uri": "https://localhost:8080/"
        },
        "outputId": "11d7657b-ebb6-4863-fa9c-6de000e6c4df"
      },
      "execution_count": null,
      "outputs": [
        {
          "output_type": "execute_result",
          "data": {
            "text/plain": [
              "(array([2016]), array([6]))"
            ]
          },
          "metadata": {},
          "execution_count": 15
        }
      ]
    },
    {
      "cell_type": "code",
      "source": [
        "dataset.drop(['year', 'risehour'], axis = 1, inplace = True)"
      ],
      "metadata": {
        "id": "fT5Mu5B2DqF1"
      },
      "execution_count": null,
      "outputs": []
    },
    {
      "cell_type": "code",
      "source": [
        "dataset.info()"
      ],
      "metadata": {
        "colab": {
          "base_uri": "https://localhost:8080/"
        },
        "id": "Bg6nhALO9lWZ",
        "outputId": "6a1d0d76-945a-407e-f6fb-2a7c9f037ac8"
      },
      "execution_count": null,
      "outputs": [
        {
          "output_type": "stream",
          "name": "stdout",
          "text": [
            "<class 'pandas.core.frame.DataFrame'>\n",
            "RangeIndex: 32686 entries, 0 to 32685\n",
            "Data columns (total 14 columns):\n",
            " #   Column                  Non-Null Count  Dtype  \n",
            "---  ------                  --------------  -----  \n",
            " 0   Radiation               32686 non-null  float64\n",
            " 1   Temperature             32686 non-null  int64  \n",
            " 2   Pressure                32686 non-null  float64\n",
            " 3   Humidity                32686 non-null  int64  \n",
            " 4   WindDirection(Degrees)  32686 non-null  float64\n",
            " 5   Speed                   32686 non-null  float64\n",
            " 6   month                   32686 non-null  int64  \n",
            " 7   date                    32686 non-null  int64  \n",
            " 8   hour                    32686 non-null  int64  \n",
            " 9   minute                  32686 non-null  int64  \n",
            " 10  second                  32686 non-null  int64  \n",
            " 11  riseminuter             32686 non-null  int64  \n",
            " 12  sethour                 32686 non-null  int64  \n",
            " 13  setminute               32686 non-null  int64  \n",
            "dtypes: float64(4), int64(10)\n",
            "memory usage: 3.5 MB\n"
          ]
        }
      ]
    },
    {
      "cell_type": "code",
      "source": [
        "dataset.drop(['second'], axis = 1, inplace = True)"
      ],
      "metadata": {
        "id": "JgDYo75j9qjy"
      },
      "execution_count": null,
      "outputs": []
    },
    {
      "cell_type": "markdown",
      "source": [
        "# **the Final Dataset after Updating**"
      ],
      "metadata": {
        "id": "QIrktxeK2kNd"
      }
    },
    {
      "cell_type": "code",
      "source": [
        "dataset"
      ],
      "metadata": {
        "id": "p8SHuF0296fE",
        "colab": {
          "base_uri": "https://localhost:8080/",
          "height": 424
        },
        "outputId": "a42ffc43-8062-4e17-f6ea-e8f349039509"
      },
      "execution_count": null,
      "outputs": [
        {
          "output_type": "execute_result",
          "data": {
            "text/plain": [
              "       Radiation  Temperature  Pressure  Humidity  WindDirection(Degrees)  \\\n",
              "0           1.21           48     30.46        59                  177.39   \n",
              "1           1.21           48     30.46        58                  176.78   \n",
              "2           1.23           48     30.46        57                  158.75   \n",
              "3           1.21           48     30.46        60                  137.71   \n",
              "4           1.17           48     30.46        62                  104.95   \n",
              "...          ...          ...       ...       ...                     ...   \n",
              "32681       1.22           44     30.43       102                  145.42   \n",
              "32682       1.17           44     30.42       102                  117.78   \n",
              "32683       1.20           44     30.42       102                  145.19   \n",
              "32684       1.23           44     30.42       101                  164.19   \n",
              "32685       1.20           44     30.43       101                   83.59   \n",
              "\n",
              "       Speed  month  date  hour  minute  riseminuter  sethour  setminute  \n",
              "0       5.62      9    29    23      55           13       18         13  \n",
              "1       3.37      9    29    23      50           13       18         13  \n",
              "2       3.37      9    29    23      45           13       18         13  \n",
              "3       3.37      9    29    23      40           13       18         13  \n",
              "4       5.62      9    29    23      35           13       18         13  \n",
              "...      ...    ...   ...   ...     ...          ...      ...        ...  \n",
              "32681   6.75     12     1     0      20           41       17         42  \n",
              "32682   6.75     12     1     0      15           41       17         42  \n",
              "32683   9.00     12     1     0      10           41       17         42  \n",
              "32684   7.87     12     1     0       5           41       17         42  \n",
              "32685   3.37     12     1     0       0           41       17         42  \n",
              "\n",
              "[32686 rows x 13 columns]"
            ],
            "text/html": [
              "\n",
              "  <div id=\"df-5e970ed4-38d2-4e0a-aba6-1491b5ed850d\">\n",
              "    <div class=\"colab-df-container\">\n",
              "      <div>\n",
              "<style scoped>\n",
              "    .dataframe tbody tr th:only-of-type {\n",
              "        vertical-align: middle;\n",
              "    }\n",
              "\n",
              "    .dataframe tbody tr th {\n",
              "        vertical-align: top;\n",
              "    }\n",
              "\n",
              "    .dataframe thead th {\n",
              "        text-align: right;\n",
              "    }\n",
              "</style>\n",
              "<table border=\"1\" class=\"dataframe\">\n",
              "  <thead>\n",
              "    <tr style=\"text-align: right;\">\n",
              "      <th></th>\n",
              "      <th>Radiation</th>\n",
              "      <th>Temperature</th>\n",
              "      <th>Pressure</th>\n",
              "      <th>Humidity</th>\n",
              "      <th>WindDirection(Degrees)</th>\n",
              "      <th>Speed</th>\n",
              "      <th>month</th>\n",
              "      <th>date</th>\n",
              "      <th>hour</th>\n",
              "      <th>minute</th>\n",
              "      <th>riseminuter</th>\n",
              "      <th>sethour</th>\n",
              "      <th>setminute</th>\n",
              "    </tr>\n",
              "  </thead>\n",
              "  <tbody>\n",
              "    <tr>\n",
              "      <th>0</th>\n",
              "      <td>1.21</td>\n",
              "      <td>48</td>\n",
              "      <td>30.46</td>\n",
              "      <td>59</td>\n",
              "      <td>177.39</td>\n",
              "      <td>5.62</td>\n",
              "      <td>9</td>\n",
              "      <td>29</td>\n",
              "      <td>23</td>\n",
              "      <td>55</td>\n",
              "      <td>13</td>\n",
              "      <td>18</td>\n",
              "      <td>13</td>\n",
              "    </tr>\n",
              "    <tr>\n",
              "      <th>1</th>\n",
              "      <td>1.21</td>\n",
              "      <td>48</td>\n",
              "      <td>30.46</td>\n",
              "      <td>58</td>\n",
              "      <td>176.78</td>\n",
              "      <td>3.37</td>\n",
              "      <td>9</td>\n",
              "      <td>29</td>\n",
              "      <td>23</td>\n",
              "      <td>50</td>\n",
              "      <td>13</td>\n",
              "      <td>18</td>\n",
              "      <td>13</td>\n",
              "    </tr>\n",
              "    <tr>\n",
              "      <th>2</th>\n",
              "      <td>1.23</td>\n",
              "      <td>48</td>\n",
              "      <td>30.46</td>\n",
              "      <td>57</td>\n",
              "      <td>158.75</td>\n",
              "      <td>3.37</td>\n",
              "      <td>9</td>\n",
              "      <td>29</td>\n",
              "      <td>23</td>\n",
              "      <td>45</td>\n",
              "      <td>13</td>\n",
              "      <td>18</td>\n",
              "      <td>13</td>\n",
              "    </tr>\n",
              "    <tr>\n",
              "      <th>3</th>\n",
              "      <td>1.21</td>\n",
              "      <td>48</td>\n",
              "      <td>30.46</td>\n",
              "      <td>60</td>\n",
              "      <td>137.71</td>\n",
              "      <td>3.37</td>\n",
              "      <td>9</td>\n",
              "      <td>29</td>\n",
              "      <td>23</td>\n",
              "      <td>40</td>\n",
              "      <td>13</td>\n",
              "      <td>18</td>\n",
              "      <td>13</td>\n",
              "    </tr>\n",
              "    <tr>\n",
              "      <th>4</th>\n",
              "      <td>1.17</td>\n",
              "      <td>48</td>\n",
              "      <td>30.46</td>\n",
              "      <td>62</td>\n",
              "      <td>104.95</td>\n",
              "      <td>5.62</td>\n",
              "      <td>9</td>\n",
              "      <td>29</td>\n",
              "      <td>23</td>\n",
              "      <td>35</td>\n",
              "      <td>13</td>\n",
              "      <td>18</td>\n",
              "      <td>13</td>\n",
              "    </tr>\n",
              "    <tr>\n",
              "      <th>...</th>\n",
              "      <td>...</td>\n",
              "      <td>...</td>\n",
              "      <td>...</td>\n",
              "      <td>...</td>\n",
              "      <td>...</td>\n",
              "      <td>...</td>\n",
              "      <td>...</td>\n",
              "      <td>...</td>\n",
              "      <td>...</td>\n",
              "      <td>...</td>\n",
              "      <td>...</td>\n",
              "      <td>...</td>\n",
              "      <td>...</td>\n",
              "    </tr>\n",
              "    <tr>\n",
              "      <th>32681</th>\n",
              "      <td>1.22</td>\n",
              "      <td>44</td>\n",
              "      <td>30.43</td>\n",
              "      <td>102</td>\n",
              "      <td>145.42</td>\n",
              "      <td>6.75</td>\n",
              "      <td>12</td>\n",
              "      <td>1</td>\n",
              "      <td>0</td>\n",
              "      <td>20</td>\n",
              "      <td>41</td>\n",
              "      <td>17</td>\n",
              "      <td>42</td>\n",
              "    </tr>\n",
              "    <tr>\n",
              "      <th>32682</th>\n",
              "      <td>1.17</td>\n",
              "      <td>44</td>\n",
              "      <td>30.42</td>\n",
              "      <td>102</td>\n",
              "      <td>117.78</td>\n",
              "      <td>6.75</td>\n",
              "      <td>12</td>\n",
              "      <td>1</td>\n",
              "      <td>0</td>\n",
              "      <td>15</td>\n",
              "      <td>41</td>\n",
              "      <td>17</td>\n",
              "      <td>42</td>\n",
              "    </tr>\n",
              "    <tr>\n",
              "      <th>32683</th>\n",
              "      <td>1.20</td>\n",
              "      <td>44</td>\n",
              "      <td>30.42</td>\n",
              "      <td>102</td>\n",
              "      <td>145.19</td>\n",
              "      <td>9.00</td>\n",
              "      <td>12</td>\n",
              "      <td>1</td>\n",
              "      <td>0</td>\n",
              "      <td>10</td>\n",
              "      <td>41</td>\n",
              "      <td>17</td>\n",
              "      <td>42</td>\n",
              "    </tr>\n",
              "    <tr>\n",
              "      <th>32684</th>\n",
              "      <td>1.23</td>\n",
              "      <td>44</td>\n",
              "      <td>30.42</td>\n",
              "      <td>101</td>\n",
              "      <td>164.19</td>\n",
              "      <td>7.87</td>\n",
              "      <td>12</td>\n",
              "      <td>1</td>\n",
              "      <td>0</td>\n",
              "      <td>5</td>\n",
              "      <td>41</td>\n",
              "      <td>17</td>\n",
              "      <td>42</td>\n",
              "    </tr>\n",
              "    <tr>\n",
              "      <th>32685</th>\n",
              "      <td>1.20</td>\n",
              "      <td>44</td>\n",
              "      <td>30.43</td>\n",
              "      <td>101</td>\n",
              "      <td>83.59</td>\n",
              "      <td>3.37</td>\n",
              "      <td>12</td>\n",
              "      <td>1</td>\n",
              "      <td>0</td>\n",
              "      <td>0</td>\n",
              "      <td>41</td>\n",
              "      <td>17</td>\n",
              "      <td>42</td>\n",
              "    </tr>\n",
              "  </tbody>\n",
              "</table>\n",
              "<p>32686 rows × 13 columns</p>\n",
              "</div>\n",
              "      <button class=\"colab-df-convert\" onclick=\"convertToInteractive('df-5e970ed4-38d2-4e0a-aba6-1491b5ed850d')\"\n",
              "              title=\"Convert this dataframe to an interactive table.\"\n",
              "              style=\"display:none;\">\n",
              "        \n",
              "  <svg xmlns=\"http://www.w3.org/2000/svg\" height=\"24px\"viewBox=\"0 0 24 24\"\n",
              "       width=\"24px\">\n",
              "    <path d=\"M0 0h24v24H0V0z\" fill=\"none\"/>\n",
              "    <path d=\"M18.56 5.44l.94 2.06.94-2.06 2.06-.94-2.06-.94-.94-2.06-.94 2.06-2.06.94zm-11 1L8.5 8.5l.94-2.06 2.06-.94-2.06-.94L8.5 2.5l-.94 2.06-2.06.94zm10 10l.94 2.06.94-2.06 2.06-.94-2.06-.94-.94-2.06-.94 2.06-2.06.94z\"/><path d=\"M17.41 7.96l-1.37-1.37c-.4-.4-.92-.59-1.43-.59-.52 0-1.04.2-1.43.59L10.3 9.45l-7.72 7.72c-.78.78-.78 2.05 0 2.83L4 21.41c.39.39.9.59 1.41.59.51 0 1.02-.2 1.41-.59l7.78-7.78 2.81-2.81c.8-.78.8-2.07 0-2.86zM5.41 20L4 18.59l7.72-7.72 1.47 1.35L5.41 20z\"/>\n",
              "  </svg>\n",
              "      </button>\n",
              "      \n",
              "  <style>\n",
              "    .colab-df-container {\n",
              "      display:flex;\n",
              "      flex-wrap:wrap;\n",
              "      gap: 12px;\n",
              "    }\n",
              "\n",
              "    .colab-df-convert {\n",
              "      background-color: #E8F0FE;\n",
              "      border: none;\n",
              "      border-radius: 50%;\n",
              "      cursor: pointer;\n",
              "      display: none;\n",
              "      fill: #1967D2;\n",
              "      height: 32px;\n",
              "      padding: 0 0 0 0;\n",
              "      width: 32px;\n",
              "    }\n",
              "\n",
              "    .colab-df-convert:hover {\n",
              "      background-color: #E2EBFA;\n",
              "      box-shadow: 0px 1px 2px rgba(60, 64, 67, 0.3), 0px 1px 3px 1px rgba(60, 64, 67, 0.15);\n",
              "      fill: #174EA6;\n",
              "    }\n",
              "\n",
              "    [theme=dark] .colab-df-convert {\n",
              "      background-color: #3B4455;\n",
              "      fill: #D2E3FC;\n",
              "    }\n",
              "\n",
              "    [theme=dark] .colab-df-convert:hover {\n",
              "      background-color: #434B5C;\n",
              "      box-shadow: 0px 1px 3px 1px rgba(0, 0, 0, 0.15);\n",
              "      filter: drop-shadow(0px 1px 2px rgba(0, 0, 0, 0.3));\n",
              "      fill: #FFFFFF;\n",
              "    }\n",
              "  </style>\n",
              "\n",
              "      <script>\n",
              "        const buttonEl =\n",
              "          document.querySelector('#df-5e970ed4-38d2-4e0a-aba6-1491b5ed850d button.colab-df-convert');\n",
              "        buttonEl.style.display =\n",
              "          google.colab.kernel.accessAllowed ? 'block' : 'none';\n",
              "\n",
              "        async function convertToInteractive(key) {\n",
              "          const element = document.querySelector('#df-5e970ed4-38d2-4e0a-aba6-1491b5ed850d');\n",
              "          const dataTable =\n",
              "            await google.colab.kernel.invokeFunction('convertToInteractive',\n",
              "                                                     [key], {});\n",
              "          if (!dataTable) return;\n",
              "\n",
              "          const docLinkHtml = 'Like what you see? Visit the ' +\n",
              "            '<a target=\"_blank\" href=https://colab.research.google.com/notebooks/data_table.ipynb>data table notebook</a>'\n",
              "            + ' to learn more about interactive tables.';\n",
              "          element.innerHTML = '';\n",
              "          dataTable['output_type'] = 'display_data';\n",
              "          await google.colab.output.renderOutput(dataTable, element);\n",
              "          const docLink = document.createElement('div');\n",
              "          docLink.innerHTML = docLinkHtml;\n",
              "          element.appendChild(docLink);\n",
              "        }\n",
              "      </script>\n",
              "    </div>\n",
              "  </div>\n",
              "  "
            ]
          },
          "metadata": {},
          "execution_count": 19
        }
      ]
    },
    {
      "cell_type": "markdown",
      "source": [
        "# **Preprocessing**"
      ],
      "metadata": {
        "id": "T0gr3CP22bZY"
      }
    },
    {
      "cell_type": "markdown",
      "source": [
        "# hyperparameters"
      ],
      "metadata": {
        "id": "nD2HSjlY3l_7"
      }
    },
    {
      "cell_type": "code",
      "source": [
        "train_fraction = 0.7\n",
        "train_split = int(train_fraction * int(dataset.shape[0]))\n",
        "\n",
        "rph = 12  # records per hour\n",
        "past = 1440  # past 5 days (rph * 24 * 5)\n",
        "future = 288  # next 1 day (rph * 24)\n",
        "batch_size = 256  # batch size"
      ],
      "metadata": {
        "id": "B5thuCPK9k28"
      },
      "execution_count": null,
      "outputs": []
    },
    {
      "cell_type": "markdown",
      "source": [
        "# **Standardization**"
      ],
      "metadata": {
        "id": "BimTCUdf4HD4"
      }
    },
    {
      "cell_type": "code",
      "source": [
        "scaler= preprocessing.StandardScaler()\n",
        "df = scaler.fit_transform(dataset)"
      ],
      "metadata": {
        "id": "EsEn5m-a_8bF"
      },
      "execution_count": null,
      "outputs": []
    },
    {
      "cell_type": "markdown",
      "source": [
        "# **convert the dataset to a dataframe**"
      ],
      "metadata": {
        "id": "cNDuLnH14BvO"
      }
    },
    {
      "cell_type": "code",
      "source": [
        "df=pd.DataFrame(df , columns=dataset.columns)"
      ],
      "metadata": {
        "id": "0bShehQa-FNC"
      },
      "execution_count": null,
      "outputs": []
    },
    {
      "cell_type": "code",
      "source": [
        "df.head()"
      ],
      "metadata": {
        "colab": {
          "base_uri": "https://localhost:8080/",
          "height": 206
        },
        "id": "E0MuJBxi6-gv",
        "outputId": "2325d644-d42f-4144-84b3-fd50b35af3b6"
      },
      "execution_count": null,
      "outputs": [
        {
          "output_type": "execute_result",
          "data": {
            "text/plain": [
              "   Radiation  Temperature  Pressure  Humidity  WindDirection(Degrees)  \\\n",
              "0  -0.651811    -0.500439  0.678974 -0.616253                0.407620   \n",
              "1  -0.651811    -0.500439  0.678974 -0.654730                0.400285   \n",
              "2  -0.651748    -0.500439  0.678974 -0.693206                0.183490   \n",
              "3  -0.651811    -0.500439  0.678974 -0.577776               -0.069497   \n",
              "4  -0.651938    -0.500439  0.678974 -0.500823               -0.463407   \n",
              "\n",
              "      Speed    month      date      hour    minute  riseminuter   sethour  \\\n",
              "0 -0.178738 -1.39154  1.512248  1.655482  1.589236    -0.943425  1.369126   \n",
              "1 -0.823359 -1.39154  1.512248  1.655482  1.299687    -0.943425  1.369126   \n",
              "2 -0.823359 -1.39154  1.512248  1.655482  1.010138    -0.943425  1.369126   \n",
              "3 -0.823359 -1.39154  1.512248  1.655482  0.720589    -0.943425  1.369126   \n",
              "4 -0.178738 -1.39154  1.512248  1.655482  0.431040    -0.943425  1.369126   \n",
              "\n",
              "   setminute  \n",
              "0  -1.525765  \n",
              "1  -1.525765  \n",
              "2  -1.525765  \n",
              "3  -1.525765  \n",
              "4  -1.525765  "
            ],
            "text/html": [
              "\n",
              "  <div id=\"df-d912476c-cb62-494a-8378-fb6d1c7b7ea5\">\n",
              "    <div class=\"colab-df-container\">\n",
              "      <div>\n",
              "<style scoped>\n",
              "    .dataframe tbody tr th:only-of-type {\n",
              "        vertical-align: middle;\n",
              "    }\n",
              "\n",
              "    .dataframe tbody tr th {\n",
              "        vertical-align: top;\n",
              "    }\n",
              "\n",
              "    .dataframe thead th {\n",
              "        text-align: right;\n",
              "    }\n",
              "</style>\n",
              "<table border=\"1\" class=\"dataframe\">\n",
              "  <thead>\n",
              "    <tr style=\"text-align: right;\">\n",
              "      <th></th>\n",
              "      <th>Radiation</th>\n",
              "      <th>Temperature</th>\n",
              "      <th>Pressure</th>\n",
              "      <th>Humidity</th>\n",
              "      <th>WindDirection(Degrees)</th>\n",
              "      <th>Speed</th>\n",
              "      <th>month</th>\n",
              "      <th>date</th>\n",
              "      <th>hour</th>\n",
              "      <th>minute</th>\n",
              "      <th>riseminuter</th>\n",
              "      <th>sethour</th>\n",
              "      <th>setminute</th>\n",
              "    </tr>\n",
              "  </thead>\n",
              "  <tbody>\n",
              "    <tr>\n",
              "      <th>0</th>\n",
              "      <td>-0.651811</td>\n",
              "      <td>-0.500439</td>\n",
              "      <td>0.678974</td>\n",
              "      <td>-0.616253</td>\n",
              "      <td>0.407620</td>\n",
              "      <td>-0.178738</td>\n",
              "      <td>-1.39154</td>\n",
              "      <td>1.512248</td>\n",
              "      <td>1.655482</td>\n",
              "      <td>1.589236</td>\n",
              "      <td>-0.943425</td>\n",
              "      <td>1.369126</td>\n",
              "      <td>-1.525765</td>\n",
              "    </tr>\n",
              "    <tr>\n",
              "      <th>1</th>\n",
              "      <td>-0.651811</td>\n",
              "      <td>-0.500439</td>\n",
              "      <td>0.678974</td>\n",
              "      <td>-0.654730</td>\n",
              "      <td>0.400285</td>\n",
              "      <td>-0.823359</td>\n",
              "      <td>-1.39154</td>\n",
              "      <td>1.512248</td>\n",
              "      <td>1.655482</td>\n",
              "      <td>1.299687</td>\n",
              "      <td>-0.943425</td>\n",
              "      <td>1.369126</td>\n",
              "      <td>-1.525765</td>\n",
              "    </tr>\n",
              "    <tr>\n",
              "      <th>2</th>\n",
              "      <td>-0.651748</td>\n",
              "      <td>-0.500439</td>\n",
              "      <td>0.678974</td>\n",
              "      <td>-0.693206</td>\n",
              "      <td>0.183490</td>\n",
              "      <td>-0.823359</td>\n",
              "      <td>-1.39154</td>\n",
              "      <td>1.512248</td>\n",
              "      <td>1.655482</td>\n",
              "      <td>1.010138</td>\n",
              "      <td>-0.943425</td>\n",
              "      <td>1.369126</td>\n",
              "      <td>-1.525765</td>\n",
              "    </tr>\n",
              "    <tr>\n",
              "      <th>3</th>\n",
              "      <td>-0.651811</td>\n",
              "      <td>-0.500439</td>\n",
              "      <td>0.678974</td>\n",
              "      <td>-0.577776</td>\n",
              "      <td>-0.069497</td>\n",
              "      <td>-0.823359</td>\n",
              "      <td>-1.39154</td>\n",
              "      <td>1.512248</td>\n",
              "      <td>1.655482</td>\n",
              "      <td>0.720589</td>\n",
              "      <td>-0.943425</td>\n",
              "      <td>1.369126</td>\n",
              "      <td>-1.525765</td>\n",
              "    </tr>\n",
              "    <tr>\n",
              "      <th>4</th>\n",
              "      <td>-0.651938</td>\n",
              "      <td>-0.500439</td>\n",
              "      <td>0.678974</td>\n",
              "      <td>-0.500823</td>\n",
              "      <td>-0.463407</td>\n",
              "      <td>-0.178738</td>\n",
              "      <td>-1.39154</td>\n",
              "      <td>1.512248</td>\n",
              "      <td>1.655482</td>\n",
              "      <td>0.431040</td>\n",
              "      <td>-0.943425</td>\n",
              "      <td>1.369126</td>\n",
              "      <td>-1.525765</td>\n",
              "    </tr>\n",
              "  </tbody>\n",
              "</table>\n",
              "</div>\n",
              "      <button class=\"colab-df-convert\" onclick=\"convertToInteractive('df-d912476c-cb62-494a-8378-fb6d1c7b7ea5')\"\n",
              "              title=\"Convert this dataframe to an interactive table.\"\n",
              "              style=\"display:none;\">\n",
              "        \n",
              "  <svg xmlns=\"http://www.w3.org/2000/svg\" height=\"24px\"viewBox=\"0 0 24 24\"\n",
              "       width=\"24px\">\n",
              "    <path d=\"M0 0h24v24H0V0z\" fill=\"none\"/>\n",
              "    <path d=\"M18.56 5.44l.94 2.06.94-2.06 2.06-.94-2.06-.94-.94-2.06-.94 2.06-2.06.94zm-11 1L8.5 8.5l.94-2.06 2.06-.94-2.06-.94L8.5 2.5l-.94 2.06-2.06.94zm10 10l.94 2.06.94-2.06 2.06-.94-2.06-.94-.94-2.06-.94 2.06-2.06.94z\"/><path d=\"M17.41 7.96l-1.37-1.37c-.4-.4-.92-.59-1.43-.59-.52 0-1.04.2-1.43.59L10.3 9.45l-7.72 7.72c-.78.78-.78 2.05 0 2.83L4 21.41c.39.39.9.59 1.41.59.51 0 1.02-.2 1.41-.59l7.78-7.78 2.81-2.81c.8-.78.8-2.07 0-2.86zM5.41 20L4 18.59l7.72-7.72 1.47 1.35L5.41 20z\"/>\n",
              "  </svg>\n",
              "      </button>\n",
              "      \n",
              "  <style>\n",
              "    .colab-df-container {\n",
              "      display:flex;\n",
              "      flex-wrap:wrap;\n",
              "      gap: 12px;\n",
              "    }\n",
              "\n",
              "    .colab-df-convert {\n",
              "      background-color: #E8F0FE;\n",
              "      border: none;\n",
              "      border-radius: 50%;\n",
              "      cursor: pointer;\n",
              "      display: none;\n",
              "      fill: #1967D2;\n",
              "      height: 32px;\n",
              "      padding: 0 0 0 0;\n",
              "      width: 32px;\n",
              "    }\n",
              "\n",
              "    .colab-df-convert:hover {\n",
              "      background-color: #E2EBFA;\n",
              "      box-shadow: 0px 1px 2px rgba(60, 64, 67, 0.3), 0px 1px 3px 1px rgba(60, 64, 67, 0.15);\n",
              "      fill: #174EA6;\n",
              "    }\n",
              "\n",
              "    [theme=dark] .colab-df-convert {\n",
              "      background-color: #3B4455;\n",
              "      fill: #D2E3FC;\n",
              "    }\n",
              "\n",
              "    [theme=dark] .colab-df-convert:hover {\n",
              "      background-color: #434B5C;\n",
              "      box-shadow: 0px 1px 3px 1px rgba(0, 0, 0, 0.15);\n",
              "      filter: drop-shadow(0px 1px 2px rgba(0, 0, 0, 0.3));\n",
              "      fill: #FFFFFF;\n",
              "    }\n",
              "  </style>\n",
              "\n",
              "      <script>\n",
              "        const buttonEl =\n",
              "          document.querySelector('#df-d912476c-cb62-494a-8378-fb6d1c7b7ea5 button.colab-df-convert');\n",
              "        buttonEl.style.display =\n",
              "          google.colab.kernel.accessAllowed ? 'block' : 'none';\n",
              "\n",
              "        async function convertToInteractive(key) {\n",
              "          const element = document.querySelector('#df-d912476c-cb62-494a-8378-fb6d1c7b7ea5');\n",
              "          const dataTable =\n",
              "            await google.colab.kernel.invokeFunction('convertToInteractive',\n",
              "                                                     [key], {});\n",
              "          if (!dataTable) return;\n",
              "\n",
              "          const docLinkHtml = 'Like what you see? Visit the ' +\n",
              "            '<a target=\"_blank\" href=https://colab.research.google.com/notebooks/data_table.ipynb>data table notebook</a>'\n",
              "            + ' to learn more about interactive tables.';\n",
              "          element.innerHTML = '';\n",
              "          dataTable['output_type'] = 'display_data';\n",
              "          await google.colab.output.renderOutput(dataTable, element);\n",
              "          const docLink = document.createElement('div');\n",
              "          docLink.innerHTML = docLinkHtml;\n",
              "          element.appendChild(docLink);\n",
              "        }\n",
              "      </script>\n",
              "    </div>\n",
              "  </div>\n",
              "  "
            ]
          },
          "metadata": {},
          "execution_count": 24
        }
      ]
    },
    {
      "cell_type": "code",
      "source": [
        "df.describe().transpose()"
      ],
      "metadata": {
        "colab": {
          "base_uri": "https://localhost:8080/",
          "height": 457
        },
        "id": "09_pkKHu-vqK",
        "outputId": "66e660ef-a717-427b-d7a0-e6b2b9e3265c"
      },
      "execution_count": null,
      "outputs": [
        {
          "output_type": "execute_result",
          "data": {
            "text/plain": [
              "                          count          mean       std       min       25%  \\\n",
              "Radiation               32686.0  0.000000e+00  1.000015 -0.652128 -0.651748   \n",
              "Temperature             32686.0  5.565041e-16  1.000015 -2.758117 -0.822965   \n",
              "Pressure                32686.0  2.904952e-14  1.000015 -4.259540 -0.418473   \n",
              "Humidity                32686.0  1.391260e-17  1.000015 -2.578560 -0.731683   \n",
              "WindDirection(Degrees)  32686.0  6.956302e-17  1.000015 -1.724255 -0.736625   \n",
              "Speed                   32686.0 -9.738822e-17  1.000015 -1.788859 -0.823359   \n",
              "month                   32686.0  1.113008e-16  1.000015 -1.391540 -0.479692   \n",
              "date                    32686.0 -7.651932e-17  1.000015 -1.701824 -0.783518   \n",
              "hour                    32686.0 -8.825808e-17  1.000015 -1.672098 -0.804034   \n",
              "minute                  32686.0 -9.130146e-17  1.000015 -1.595802 -0.727155   \n",
              "riseminuter             32686.0 -5.565041e-17  1.000015 -1.330061 -0.878986   \n",
              "sethour                 32686.0  2.754695e-15  1.000015 -0.730393 -0.730393   \n",
              "setminute               32686.0 -1.113008e-16  1.000015 -2.341417 -0.710113   \n",
              "\n",
              "                             50%       75%       max  \n",
              "Radiation              -0.647221  0.465669  4.413056  \n",
              "Temperature            -0.177914  0.628400  3.208603  \n",
              "Pressure                0.130250  0.678974  2.508053  \n",
              "Humidity                0.384139  0.845858  1.076717  \n",
              "WindDirection(Degrees)  0.050624  0.430706  2.602741  \n",
              "Speed                  -0.178738  0.465884  9.814329  \n",
              "month                   0.432155  0.432155  1.344003  \n",
              "date                    0.020000  0.823518  1.741824  \n",
              "hour                    0.064031  0.932095  1.655482  \n",
              "minute                  0.141491  1.010138  1.705055  \n",
              "riseminuter            -0.234593  0.796437  1.891905  \n",
              "sethour                -0.730393  1.369126  1.369126  \n",
              "setminute               0.356509  0.670221  1.360388  "
            ],
            "text/html": [
              "\n",
              "  <div id=\"df-87d739e9-7970-480d-9f94-65769b4ce19b\">\n",
              "    <div class=\"colab-df-container\">\n",
              "      <div>\n",
              "<style scoped>\n",
              "    .dataframe tbody tr th:only-of-type {\n",
              "        vertical-align: middle;\n",
              "    }\n",
              "\n",
              "    .dataframe tbody tr th {\n",
              "        vertical-align: top;\n",
              "    }\n",
              "\n",
              "    .dataframe thead th {\n",
              "        text-align: right;\n",
              "    }\n",
              "</style>\n",
              "<table border=\"1\" class=\"dataframe\">\n",
              "  <thead>\n",
              "    <tr style=\"text-align: right;\">\n",
              "      <th></th>\n",
              "      <th>count</th>\n",
              "      <th>mean</th>\n",
              "      <th>std</th>\n",
              "      <th>min</th>\n",
              "      <th>25%</th>\n",
              "      <th>50%</th>\n",
              "      <th>75%</th>\n",
              "      <th>max</th>\n",
              "    </tr>\n",
              "  </thead>\n",
              "  <tbody>\n",
              "    <tr>\n",
              "      <th>Radiation</th>\n",
              "      <td>32686.0</td>\n",
              "      <td>0.000000e+00</td>\n",
              "      <td>1.000015</td>\n",
              "      <td>-0.652128</td>\n",
              "      <td>-0.651748</td>\n",
              "      <td>-0.647221</td>\n",
              "      <td>0.465669</td>\n",
              "      <td>4.413056</td>\n",
              "    </tr>\n",
              "    <tr>\n",
              "      <th>Temperature</th>\n",
              "      <td>32686.0</td>\n",
              "      <td>5.565041e-16</td>\n",
              "      <td>1.000015</td>\n",
              "      <td>-2.758117</td>\n",
              "      <td>-0.822965</td>\n",
              "      <td>-0.177914</td>\n",
              "      <td>0.628400</td>\n",
              "      <td>3.208603</td>\n",
              "    </tr>\n",
              "    <tr>\n",
              "      <th>Pressure</th>\n",
              "      <td>32686.0</td>\n",
              "      <td>2.904952e-14</td>\n",
              "      <td>1.000015</td>\n",
              "      <td>-4.259540</td>\n",
              "      <td>-0.418473</td>\n",
              "      <td>0.130250</td>\n",
              "      <td>0.678974</td>\n",
              "      <td>2.508053</td>\n",
              "    </tr>\n",
              "    <tr>\n",
              "      <th>Humidity</th>\n",
              "      <td>32686.0</td>\n",
              "      <td>1.391260e-17</td>\n",
              "      <td>1.000015</td>\n",
              "      <td>-2.578560</td>\n",
              "      <td>-0.731683</td>\n",
              "      <td>0.384139</td>\n",
              "      <td>0.845858</td>\n",
              "      <td>1.076717</td>\n",
              "    </tr>\n",
              "    <tr>\n",
              "      <th>WindDirection(Degrees)</th>\n",
              "      <td>32686.0</td>\n",
              "      <td>6.956302e-17</td>\n",
              "      <td>1.000015</td>\n",
              "      <td>-1.724255</td>\n",
              "      <td>-0.736625</td>\n",
              "      <td>0.050624</td>\n",
              "      <td>0.430706</td>\n",
              "      <td>2.602741</td>\n",
              "    </tr>\n",
              "    <tr>\n",
              "      <th>Speed</th>\n",
              "      <td>32686.0</td>\n",
              "      <td>-9.738822e-17</td>\n",
              "      <td>1.000015</td>\n",
              "      <td>-1.788859</td>\n",
              "      <td>-0.823359</td>\n",
              "      <td>-0.178738</td>\n",
              "      <td>0.465884</td>\n",
              "      <td>9.814329</td>\n",
              "    </tr>\n",
              "    <tr>\n",
              "      <th>month</th>\n",
              "      <td>32686.0</td>\n",
              "      <td>1.113008e-16</td>\n",
              "      <td>1.000015</td>\n",
              "      <td>-1.391540</td>\n",
              "      <td>-0.479692</td>\n",
              "      <td>0.432155</td>\n",
              "      <td>0.432155</td>\n",
              "      <td>1.344003</td>\n",
              "    </tr>\n",
              "    <tr>\n",
              "      <th>date</th>\n",
              "      <td>32686.0</td>\n",
              "      <td>-7.651932e-17</td>\n",
              "      <td>1.000015</td>\n",
              "      <td>-1.701824</td>\n",
              "      <td>-0.783518</td>\n",
              "      <td>0.020000</td>\n",
              "      <td>0.823518</td>\n",
              "      <td>1.741824</td>\n",
              "    </tr>\n",
              "    <tr>\n",
              "      <th>hour</th>\n",
              "      <td>32686.0</td>\n",
              "      <td>-8.825808e-17</td>\n",
              "      <td>1.000015</td>\n",
              "      <td>-1.672098</td>\n",
              "      <td>-0.804034</td>\n",
              "      <td>0.064031</td>\n",
              "      <td>0.932095</td>\n",
              "      <td>1.655482</td>\n",
              "    </tr>\n",
              "    <tr>\n",
              "      <th>minute</th>\n",
              "      <td>32686.0</td>\n",
              "      <td>-9.130146e-17</td>\n",
              "      <td>1.000015</td>\n",
              "      <td>-1.595802</td>\n",
              "      <td>-0.727155</td>\n",
              "      <td>0.141491</td>\n",
              "      <td>1.010138</td>\n",
              "      <td>1.705055</td>\n",
              "    </tr>\n",
              "    <tr>\n",
              "      <th>riseminuter</th>\n",
              "      <td>32686.0</td>\n",
              "      <td>-5.565041e-17</td>\n",
              "      <td>1.000015</td>\n",
              "      <td>-1.330061</td>\n",
              "      <td>-0.878986</td>\n",
              "      <td>-0.234593</td>\n",
              "      <td>0.796437</td>\n",
              "      <td>1.891905</td>\n",
              "    </tr>\n",
              "    <tr>\n",
              "      <th>sethour</th>\n",
              "      <td>32686.0</td>\n",
              "      <td>2.754695e-15</td>\n",
              "      <td>1.000015</td>\n",
              "      <td>-0.730393</td>\n",
              "      <td>-0.730393</td>\n",
              "      <td>-0.730393</td>\n",
              "      <td>1.369126</td>\n",
              "      <td>1.369126</td>\n",
              "    </tr>\n",
              "    <tr>\n",
              "      <th>setminute</th>\n",
              "      <td>32686.0</td>\n",
              "      <td>-1.113008e-16</td>\n",
              "      <td>1.000015</td>\n",
              "      <td>-2.341417</td>\n",
              "      <td>-0.710113</td>\n",
              "      <td>0.356509</td>\n",
              "      <td>0.670221</td>\n",
              "      <td>1.360388</td>\n",
              "    </tr>\n",
              "  </tbody>\n",
              "</table>\n",
              "</div>\n",
              "      <button class=\"colab-df-convert\" onclick=\"convertToInteractive('df-87d739e9-7970-480d-9f94-65769b4ce19b')\"\n",
              "              title=\"Convert this dataframe to an interactive table.\"\n",
              "              style=\"display:none;\">\n",
              "        \n",
              "  <svg xmlns=\"http://www.w3.org/2000/svg\" height=\"24px\"viewBox=\"0 0 24 24\"\n",
              "       width=\"24px\">\n",
              "    <path d=\"M0 0h24v24H0V0z\" fill=\"none\"/>\n",
              "    <path d=\"M18.56 5.44l.94 2.06.94-2.06 2.06-.94-2.06-.94-.94-2.06-.94 2.06-2.06.94zm-11 1L8.5 8.5l.94-2.06 2.06-.94-2.06-.94L8.5 2.5l-.94 2.06-2.06.94zm10 10l.94 2.06.94-2.06 2.06-.94-2.06-.94-.94-2.06-.94 2.06-2.06.94z\"/><path d=\"M17.41 7.96l-1.37-1.37c-.4-.4-.92-.59-1.43-.59-.52 0-1.04.2-1.43.59L10.3 9.45l-7.72 7.72c-.78.78-.78 2.05 0 2.83L4 21.41c.39.39.9.59 1.41.59.51 0 1.02-.2 1.41-.59l7.78-7.78 2.81-2.81c.8-.78.8-2.07 0-2.86zM5.41 20L4 18.59l7.72-7.72 1.47 1.35L5.41 20z\"/>\n",
              "  </svg>\n",
              "      </button>\n",
              "      \n",
              "  <style>\n",
              "    .colab-df-container {\n",
              "      display:flex;\n",
              "      flex-wrap:wrap;\n",
              "      gap: 12px;\n",
              "    }\n",
              "\n",
              "    .colab-df-convert {\n",
              "      background-color: #E8F0FE;\n",
              "      border: none;\n",
              "      border-radius: 50%;\n",
              "      cursor: pointer;\n",
              "      display: none;\n",
              "      fill: #1967D2;\n",
              "      height: 32px;\n",
              "      padding: 0 0 0 0;\n",
              "      width: 32px;\n",
              "    }\n",
              "\n",
              "    .colab-df-convert:hover {\n",
              "      background-color: #E2EBFA;\n",
              "      box-shadow: 0px 1px 2px rgba(60, 64, 67, 0.3), 0px 1px 3px 1px rgba(60, 64, 67, 0.15);\n",
              "      fill: #174EA6;\n",
              "    }\n",
              "\n",
              "    [theme=dark] .colab-df-convert {\n",
              "      background-color: #3B4455;\n",
              "      fill: #D2E3FC;\n",
              "    }\n",
              "\n",
              "    [theme=dark] .colab-df-convert:hover {\n",
              "      background-color: #434B5C;\n",
              "      box-shadow: 0px 1px 3px 1px rgba(0, 0, 0, 0.15);\n",
              "      filter: drop-shadow(0px 1px 2px rgba(0, 0, 0, 0.3));\n",
              "      fill: #FFFFFF;\n",
              "    }\n",
              "  </style>\n",
              "\n",
              "      <script>\n",
              "        const buttonEl =\n",
              "          document.querySelector('#df-87d739e9-7970-480d-9f94-65769b4ce19b button.colab-df-convert');\n",
              "        buttonEl.style.display =\n",
              "          google.colab.kernel.accessAllowed ? 'block' : 'none';\n",
              "\n",
              "        async function convertToInteractive(key) {\n",
              "          const element = document.querySelector('#df-87d739e9-7970-480d-9f94-65769b4ce19b');\n",
              "          const dataTable =\n",
              "            await google.colab.kernel.invokeFunction('convertToInteractive',\n",
              "                                                     [key], {});\n",
              "          if (!dataTable) return;\n",
              "\n",
              "          const docLinkHtml = 'Like what you see? Visit the ' +\n",
              "            '<a target=\"_blank\" href=https://colab.research.google.com/notebooks/data_table.ipynb>data table notebook</a>'\n",
              "            + ' to learn more about interactive tables.';\n",
              "          element.innerHTML = '';\n",
              "          dataTable['output_type'] = 'display_data';\n",
              "          await google.colab.output.renderOutput(dataTable, element);\n",
              "          const docLink = document.createElement('div');\n",
              "          docLink.innerHTML = docLinkHtml;\n",
              "          element.appendChild(docLink);\n",
              "        }\n",
              "      </script>\n",
              "    </div>\n",
              "  </div>\n",
              "  "
            ]
          },
          "metadata": {},
          "execution_count": 25
        }
      ]
    },
    {
      "cell_type": "markdown",
      "source": [
        "# **Train-Test Split**"
      ],
      "metadata": {
        "id": "_N-TyZuX4Nzx"
      }
    },
    {
      "cell_type": "code",
      "source": [
        "train_data = df.loc[0 : train_split - 1]\n",
        "test_data = df.loc[train_split:]\n",
        "\n",
        "dataset.shape, train_data.shape, test_data.shape"
      ],
      "metadata": {
        "id": "nApGU_yT3EYf",
        "colab": {
          "base_uri": "https://localhost:8080/"
        },
        "outputId": "adc84e72-57ec-4444-a8c1-49efbdfbcd0b"
      },
      "execution_count": null,
      "outputs": [
        {
          "output_type": "execute_result",
          "data": {
            "text/plain": [
              "((32686, 13), (22880, 13), (9806, 13))"
            ]
          },
          "metadata": {},
          "execution_count": 30
        }
      ]
    },
    {
      "cell_type": "markdown",
      "source": [
        "# **create x_train and y_train**"
      ],
      "metadata": {
        "id": "ER3Ps-da4eNk"
      }
    },
    {
      "cell_type": "code",
      "source": [
        "x_train=train_data.values\n",
        "\n",
        "y_train_start=past+future\n",
        "y_train_end=y_train_start+train_split\n",
        "\n",
        "y_train=df.iloc[y_train_start:y_train_end][['Radiation']].values"
      ],
      "metadata": {
        "id": "YioYfODgCfSF"
      },
      "execution_count": null,
      "outputs": []
    },
    {
      "cell_type": "code",
      "source": [
        "y_train.shape , x_train.shape"
      ],
      "metadata": {
        "id": "GmJDzgvgLlAI",
        "colab": {
          "base_uri": "https://localhost:8080/"
        },
        "outputId": "1b2d013e-c431-4ad6-e504-3e6935cbf698"
      },
      "execution_count": null,
      "outputs": [
        {
          "output_type": "execute_result",
          "data": {
            "text/plain": [
              "((22880, 1), (22880, 13))"
            ]
          },
          "metadata": {},
          "execution_count": 74
        }
      ]
    },
    {
      "cell_type": "markdown",
      "source": [
        "# **create x_test and y_test**"
      ],
      "metadata": {
        "id": "dSiqq1Fa4wfF"
      }
    },
    {
      "cell_type": "code",
      "source": [
        "x_test_end=(len(test_data)-future-past)\n",
        "x_test = test_data.iloc[:x_test_end].values\n",
        "\n",
        "y_start = train_split + past + future\n",
        "y_test = df.iloc[y_start:][['Radiation']].values"
      ],
      "metadata": {
        "id": "f6ZQ4CTUNjds"
      },
      "execution_count": null,
      "outputs": []
    },
    {
      "cell_type": "code",
      "source": [
        "x_test.shape ,y_test.shape"
      ],
      "metadata": {
        "id": "VgiPwVwANdp8",
        "colab": {
          "base_uri": "https://localhost:8080/"
        },
        "outputId": "09fbdb33-422f-47b1-a564-4e2bb1cf6fb1"
      },
      "execution_count": null,
      "outputs": [
        {
          "output_type": "execute_result",
          "data": {
            "text/plain": [
              "((8078, 13), (8078, 1))"
            ]
          },
          "metadata": {},
          "execution_count": 77
        }
      ]
    },
    {
      "cell_type": "code",
      "source": [
        "sampling_rate = rph\n",
        "sequence_length = int(past / rph)"
      ],
      "metadata": {
        "id": "E4ZPC8rINz7Z"
      },
      "execution_count": null,
      "outputs": []
    },
    {
      "cell_type": "code",
      "source": [
        "sequence_length"
      ],
      "metadata": {
        "colab": {
          "base_uri": "https://localhost:8080/"
        },
        "id": "SRIzPTG7H3zS",
        "outputId": "7b023bef-4fe5-4372-ce13-b2ab0e4c9416"
      },
      "execution_count": null,
      "outputs": [
        {
          "output_type": "execute_result",
          "data": {
            "text/plain": [
              "120"
            ]
          },
          "metadata": {},
          "execution_count": 40
        }
      ]
    },
    {
      "cell_type": "code",
      "source": [
        "train_dataset = tf.keras.preprocessing.timeseries_dataset_from_array(\n",
        "    x_train,\n",
        "    y_train,\n",
        "    sequence_length=sequence_length,\n",
        "    sampling_rate=sampling_rate,\n",
        "    batch_size=batch_size,\n",
        ")\n",
        "\n",
        "test_dataset = tf.keras.preprocessing.timeseries_dataset_from_array(\n",
        "    x_test,\n",
        "    y_test,\n",
        "    sequence_length=sequence_length,\n",
        "    sampling_rate=sampling_rate,\n",
        "    batch_size=batch_size,\n",
        ")"
      ],
      "metadata": {
        "id": "Ua2GN3W2JyyA"
      },
      "execution_count": null,
      "outputs": []
    },
    {
      "cell_type": "markdown",
      "source": [
        "# **Model Building**"
      ],
      "metadata": {
        "id": "uq3MzElv5Cwv"
      }
    },
    {
      "cell_type": "code",
      "source": [
        "model = tf.keras.models.Sequential(\n",
        "    [tf.keras.layers.GRU(64, activation='relu', input_shape=(sequence_length, 13)),\n",
        "    tf.keras.layers.Dense(128, activation=\"relu\"),\n",
        "    tf.keras.layers.Dense(128, activation=\"relu\"),\n",
        "    tf.keras.layers.Dropout(0.2),\n",
        "    tf.keras.layers.Dense(128, activation=\"relu\"),\n",
        "    tf.keras.layers.Dense(128, activation=\"relu\"),\n",
        "    tf.keras.layers.Dropout(0.3),\n",
        "    tf.keras.layers.Dense(1),\n",
        "    ]\n",
        ")"
      ],
      "metadata": {
        "id": "pB0kHDJ4J4C8"
      },
      "execution_count": null,
      "outputs": []
    },
    {
      "cell_type": "code",
      "source": [
        "model.compile(\n",
        "    optimizer=tf.keras.optimizers.Adam(),\n",
        "    loss=tf.keras.losses.Huber(),\n",
        "    metrics=[tf.keras.metrics.MeanAbsoluteError()],\n",
        ")"
      ],
      "metadata": {
        "id": "Z-wzYeo7YgNZ"
      },
      "execution_count": null,
      "outputs": []
    },
    {
      "cell_type": "code",
      "source": [
        "checkpoint_callback = tf.keras.callbacks.ModelCheckpoint(\n",
        "    \"model_checkpoint.h5\",\n",
        "    save_best_only=True,\n",
        "    monitor=\"val_loss\",\n",
        ")\n",
        "\n",
        "early_stopping_callback = tf.keras.callbacks.EarlyStopping(\n",
        "    patience=3,\n",
        "    restore_best_weights=True,\n",
        ")"
      ],
      "metadata": {
        "id": "xNGC4zlpKSwe"
      },
      "execution_count": null,
      "outputs": []
    },
    {
      "cell_type": "code",
      "source": [
        "model.fit(\n",
        "    train_dataset,\n",
        "    epochs=10,\n",
        "    validation_data=test_dataset,\n",
        "    #callbacks=[checkpoint_callback, early_stopping_callback],\n",
        ")"
      ],
      "metadata": {
        "colab": {
          "base_uri": "https://localhost:8080/"
        },
        "id": "d4QYJCijKaUJ",
        "outputId": "b7920072-86c6-4f3d-9f5a-8cf29baff462"
      },
      "execution_count": null,
      "outputs": [
        {
          "output_type": "stream",
          "name": "stdout",
          "text": [
            "Epoch 1/10\n",
            "84/84 [==============================] - 36s 335ms/step - loss: 0.2441 - mean_absolute_error: 0.5357 - val_loss: 0.3113 - val_mean_absolute_error: 0.6112\n",
            "Epoch 2/10\n",
            "84/84 [==============================] - 27s 319ms/step - loss: 0.1731 - mean_absolute_error: 0.4251 - val_loss: 0.3111 - val_mean_absolute_error: 0.5861\n",
            "Epoch 3/10\n",
            "84/84 [==============================] - 23s 276ms/step - loss: 0.1792 - mean_absolute_error: 0.4128 - val_loss: 0.1944 - val_mean_absolute_error: 0.4476\n",
            "Epoch 4/10\n",
            "84/84 [==============================] - 26s 306ms/step - loss: 0.1568 - mean_absolute_error: 0.3773 - val_loss: 0.1741 - val_mean_absolute_error: 0.3921\n",
            "Epoch 5/10\n",
            "84/84 [==============================] - 26s 305ms/step - loss: 0.1340 - mean_absolute_error: 0.3384 - val_loss: 0.1438 - val_mean_absolute_error: 0.3486\n",
            "Epoch 6/10\n",
            "84/84 [==============================] - 31s 369ms/step - loss: 0.1251 - mean_absolute_error: 0.3227 - val_loss: 0.1423 - val_mean_absolute_error: 0.3448\n",
            "Epoch 7/10\n",
            "84/84 [==============================] - 35s 413ms/step - loss: 0.1197 - mean_absolute_error: 0.3138 - val_loss: 0.1581 - val_mean_absolute_error: 0.3662\n",
            "Epoch 8/10\n",
            "84/84 [==============================] - 27s 318ms/step - loss: 0.1146 - mean_absolute_error: 0.3033 - val_loss: 0.1682 - val_mean_absolute_error: 0.3710\n",
            "Epoch 9/10\n",
            "84/84 [==============================] - 27s 319ms/step - loss: 0.1095 - mean_absolute_error: 0.2951 - val_loss: 0.1795 - val_mean_absolute_error: 0.3844\n",
            "Epoch 10/10\n",
            "84/84 [==============================] - 27s 316ms/step - loss: 0.1053 - mean_absolute_error: 0.2910 - val_loss: 0.1309 - val_mean_absolute_error: 0.3068\n"
          ]
        },
        {
          "output_type": "execute_result",
          "data": {
            "text/plain": [
              "<keras.callbacks.History at 0x7fcad27a5b80>"
            ]
          },
          "metadata": {},
          "execution_count": 45
        }
      ]
    },
    {
      "cell_type": "code",
      "source": [
        "print(model.history.params)"
      ],
      "metadata": {
        "colab": {
          "base_uri": "https://localhost:8080/"
        },
        "id": "fMez6sSCrAWt",
        "outputId": "382b85ca-4915-4e00-82b0-5a85c3abfcc7"
      },
      "execution_count": null,
      "outputs": [
        {
          "output_type": "stream",
          "name": "stdout",
          "text": [
            "{'verbose': 1, 'epochs': 1, 'steps': 1}\n"
          ]
        }
      ]
    },
    {
      "cell_type": "code",
      "source": [
        "print(model.history.history.keys())"
      ],
      "metadata": {
        "colab": {
          "base_uri": "https://localhost:8080/"
        },
        "id": "68-M2qkqoOy6",
        "outputId": "b4a9d93c-ba4b-4ea3-c655-6d571f338dbf"
      },
      "execution_count": null,
      "outputs": [
        {
          "output_type": "stream",
          "name": "stdout",
          "text": [
            "dict_keys([])\n"
          ]
        }
      ]
    },
    {
      "cell_type": "code",
      "source": [
        "print(model.history)"
      ],
      "metadata": {
        "colab": {
          "base_uri": "https://localhost:8080/"
        },
        "id": "3SCJZDObpWyy",
        "outputId": "845ad8dd-37f4-4339-ce51-5dcaf3158c91"
      },
      "execution_count": null,
      "outputs": [
        {
          "output_type": "stream",
          "name": "stdout",
          "text": [
            "<keras.callbacks.History object at 0x7fcac8fded00>\n"
          ]
        }
      ]
    },
    {
      "cell_type": "code",
      "source": [
        "test_dataset_subset = test_dataset.take(10)\n",
        "\n",
        "predictions = model.predict(test_dataset_subset)\n",
        "\n",
        "actual_values = []\n",
        "for batch in test_dataset_subset:\n",
        "    actual_values.extend(batch[1])\n",
        "\n",
        "plt.figure(figsize=(15, 8))\n",
        "plt.plot(predictions, label=\"prediction\")\n",
        "plt.plot(actual_values, label=\"actual\")\n",
        "plt.legend()\n",
        "plt.show()"
      ],
      "metadata": {
        "id": "D3kL9kfT9Mwh",
        "colab": {
          "base_uri": "https://localhost:8080/",
          "height": 693
        },
        "outputId": "7d99e790-a1a7-49df-f090-d2ddf59463c5"
      },
      "execution_count": null,
      "outputs": [
        {
          "output_type": "stream",
          "name": "stdout",
          "text": [
            "10/10 [==============================] - 1s 114ms/step\n"
          ]
        },
        {
          "output_type": "display_data",
          "data": {
            "text/plain": [
              "<Figure size 1500x800 with 1 Axes>"
            ],
            "image/png": "[encoded data removed]"
          },
          "metadata": {}
        }
      ]
    }
  ]
}